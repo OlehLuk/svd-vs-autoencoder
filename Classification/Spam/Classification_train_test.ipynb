{
 "cells": [
  {
   "cell_type": "code",
   "execution_count": 1,
   "metadata": {},
   "outputs": [],
   "source": [
    "import pandas as pd\n",
    "from sklearn.model_selection import (\n",
    "    train_test_split, StratifiedKFold, cross_val_score, GridSearchCV\n",
    ")\n",
    "# ML models\n",
    "from sklearn.linear_model import LogisticRegression\n",
    "from sklearn.ensemble import RandomForestClassifier\n",
    "\n",
    "# metrics\n",
    "from sklearn.metrics import classification_report, f1_score\n",
    "\n",
    "from os import cpu_count\n"
   ]
  },
  {
   "cell_type": "code",
   "execution_count": 2,
   "metadata": {},
   "outputs": [],
   "source": [
    "def split_feature_label(df, label_col):\n",
    "    return df.drop(columns=label_col), df[label_col]\n",
    "\n",
    "def test_lr_on(df_train, df_test, feature_col):\n",
    "    X_train, y_train = split_feature_label(df_train, feature_col)\n",
    "    X_test, y_test = split_feature_label(df_test, feature_col)\n",
    "    lr = LogisticRegression(random_state=42, C=0.69, penalty='l1')\n",
    "    lr.fit(X_train, y_train)\n",
    "    return lr.score(X_test, y_test)\n",
    "\n",
    "def test_rf_on(df_train, df_test, feature_col):\n",
    "    X_train, y_train = split_feature_label(df_train, feature_col)\n",
    "    X_test, y_test = split_feature_label(df_test, feature_col)\n",
    "    rf = RandomForestClassifier(n_estimators=100, max_depth=10, random_state=42)\n",
    "    rf.fit(X_train, y_train)\n",
    "    return rf.score(X_test, y_test)\n"
   ]
  },
  {
   "cell_type": "code",
   "execution_count": 3,
   "metadata": {},
   "outputs": [],
   "source": [
    "df_50_train = pd.read_csv(\"spam_train_ae_compressed_to_50_features.csv\", index_col='id_of_the_text')\n",
    "df_50_test = pd.read_csv(\"spam_test_ae_compressed_to_50_features.csv\", index_col='id_of_the_text')\n",
    "df_100_train = pd.read_csv(\"spam_train_ae_compressed_to_100_features.csv\", index_col='id_of_the_text')\n",
    "df_100_test = pd.read_csv(\"spam_test_ae_compressed_to_100_features.csv\", index_col='id_of_the_text')\n",
    "df_500_train = pd.read_csv(\"spam_train_ae_compressed_to_500_features.csv\", index_col='id_of_the_text')\n",
    "df_500_test = pd.read_csv(\"spam_test_ae_compressed_to_500_features.csv\", index_col='id_of_the_text')"
   ]
  },
  {
   "cell_type": "code",
   "execution_count": 4,
   "metadata": {},
   "outputs": [],
   "source": [
    "label = 'Label'"
   ]
  },
  {
   "cell_type": "code",
   "execution_count": 5,
   "metadata": {},
   "outputs": [
    {
     "name": "stdout",
     "output_type": "stream",
     "text": [
      "0.5493716337522442\n",
      "0.4781567923399162\n",
      "0.38539796529024534\n"
     ]
    },
    {
     "name": "stderr",
     "output_type": "stream",
     "text": [
      "C:\\ProgramData\\Anaconda3\\lib\\site-packages\\sklearn\\linear_model\\logistic.py:433: FutureWarning: Default solver will be changed to 'lbfgs' in 0.22. Specify a solver to silence this warning.\n",
      "  FutureWarning)\n",
      "C:\\ProgramData\\Anaconda3\\lib\\site-packages\\sklearn\\linear_model\\logistic.py:433: FutureWarning: Default solver will be changed to 'lbfgs' in 0.22. Specify a solver to silence this warning.\n",
      "  FutureWarning)\n",
      "C:\\ProgramData\\Anaconda3\\lib\\site-packages\\sklearn\\linear_model\\logistic.py:433: FutureWarning: Default solver will be changed to 'lbfgs' in 0.22. Specify a solver to silence this warning.\n",
      "  FutureWarning)\n"
     ]
    }
   ],
   "source": [
    "print(test_lr_on(df_50_train, df_50_test, label))\n",
    "print(test_lr_on(df_100_train, df_100_test, label))\n",
    "print(test_lr_on(df_500_train, df_500_test, label))"
   ]
  },
  {
   "cell_type": "code",
   "execution_count": 6,
   "metadata": {},
   "outputs": [
    {
     "name": "stdout",
     "output_type": "stream",
     "text": [
      "0.6929982046678635\n",
      "0.7498503889886295\n",
      "0.6630760023937762\n"
     ]
    }
   ],
   "source": [
    "print(test_rf_on(df_50_train, df_50_test, label))\n",
    "print(test_rf_on(df_100_train, df_100_test, label))\n",
    "print(test_rf_on(df_500_train, df_500_test, label))"
   ]
  },
  {
   "cell_type": "code",
   "execution_count": 8,
   "metadata": {},
   "outputs": [],
   "source": [
    "df_50_svd_train = pd.read_csv(\"spam_train_bag_of_words_with_svd_50.csv\", index_col='Unnamed: 0')\n",
    "df_50_svd_test = pd.read_csv(\"spam_test_bag_of_words_with_svd_50.csv\", index_col='Unnamed: 0')\n",
    "df_100_svd_train = pd.read_csv(\"spam_train_bag_of_words_with_svd_100.csv\", index_col='Unnamed: 0')\n",
    "df_100_svd_test = pd.read_csv(\"spam_test_bag_of_words_with_svd_100.csv\", index_col='Unnamed: 0')\n",
    "df_500_svd_train = pd.read_csv(\"spam_train_bag_of_words_with_svd_500.csv\", index_col='Unnamed: 0')\n",
    "df_500_svd_test = pd.read_csv(\"spam_test_bag_of_words_with_svd_500.csv\", index_col='Unnamed: 0')"
   ]
  },
  {
   "cell_type": "code",
   "execution_count": 9,
   "metadata": {},
   "outputs": [
    {
     "name": "stdout",
     "output_type": "stream",
     "text": [
      "0.8659485338120886\n",
      "0.8653500897666068\n",
      "0.8641532016756434\n"
     ]
    },
    {
     "name": "stderr",
     "output_type": "stream",
     "text": [
      "C:\\ProgramData\\Anaconda3\\lib\\site-packages\\sklearn\\linear_model\\logistic.py:433: FutureWarning: Default solver will be changed to 'lbfgs' in 0.22. Specify a solver to silence this warning.\n",
      "  FutureWarning)\n",
      "C:\\ProgramData\\Anaconda3\\lib\\site-packages\\sklearn\\linear_model\\logistic.py:433: FutureWarning: Default solver will be changed to 'lbfgs' in 0.22. Specify a solver to silence this warning.\n",
      "  FutureWarning)\n",
      "C:\\ProgramData\\Anaconda3\\lib\\site-packages\\sklearn\\linear_model\\logistic.py:433: FutureWarning: Default solver will be changed to 'lbfgs' in 0.22. Specify a solver to silence this warning.\n",
      "  FutureWarning)\n"
     ]
    }
   ],
   "source": [
    "print(test_lr_on(df_50_svd_train, df_50_svd_test, label))\n",
    "print(test_lr_on(df_100_svd_train, df_100_svd_test, label))\n",
    "print(test_lr_on(df_500_svd_train, df_500_svd_test, label))"
   ]
  },
  {
   "cell_type": "code",
   "execution_count": 10,
   "metadata": {},
   "outputs": [
    {
     "name": "stdout",
     "output_type": "stream",
     "text": [
      "0.8539796529024536\n",
      "0.8635547576301615\n",
      "0.8713345302214243\n"
     ]
    }
   ],
   "source": [
    "print(test_rf_on(df_50_svd_train, df_50_svd_test, label))\n",
    "print(test_rf_on(df_100_svd_train, df_100_svd_test, label))\n",
    "print(test_rf_on(df_500_svd_train, df_500_svd_test, label))"
   ]
  },
  {
   "cell_type": "markdown",
   "metadata": {},
   "source": [
    "# Original dataset"
   ]
  },
  {
   "cell_type": "code",
   "execution_count": 13,
   "metadata": {},
   "outputs": [],
   "source": [
    "spam_train = pd.read_csv(\"spam_train_bag_of_words.csv\", index_col='Unnamed: 0')"
   ]
  },
  {
   "cell_type": "code",
   "execution_count": 14,
   "metadata": {},
   "outputs": [],
   "source": [
    "spam_test = pd.read_csv(\"spam_test_bag_of_words.csv\", index_col='Unnamed: 0')"
   ]
  },
  {
   "cell_type": "code",
   "execution_count": 15,
   "metadata": {},
   "outputs": [
    {
     "data": {
      "text/html": [
       "<div>\n",
       "<style scoped>\n",
       "    .dataframe tbody tr th:only-of-type {\n",
       "        vertical-align: middle;\n",
       "    }\n",
       "\n",
       "    .dataframe tbody tr th {\n",
       "        vertical-align: top;\n",
       "    }\n",
       "\n",
       "    .dataframe thead th {\n",
       "        text-align: right;\n",
       "    }\n",
       "</style>\n",
       "<table border=\"1\" class=\"dataframe\">\n",
       "  <thead>\n",
       "    <tr style=\"text-align: right;\">\n",
       "      <th></th>\n",
       "      <th>Label</th>\n",
       "      <th>go</th>\n",
       "      <th>jurong</th>\n",
       "      <th>point</th>\n",
       "      <th>crazi</th>\n",
       "      <th>avail</th>\n",
       "      <th>bugi</th>\n",
       "      <th>n</th>\n",
       "      <th>great</th>\n",
       "      <th>world</th>\n",
       "      <th>...</th>\n",
       "      <th>guy_bitch</th>\n",
       "      <th>bitch_act</th>\n",
       "      <th>act_like</th>\n",
       "      <th>like_interest</th>\n",
       "      <th>interest_buy</th>\n",
       "      <th>buy_someth</th>\n",
       "      <th>els_next</th>\n",
       "      <th>week_gave</th>\n",
       "      <th>gave_us</th>\n",
       "      <th>us_free</th>\n",
       "    </tr>\n",
       "  </thead>\n",
       "  <tbody>\n",
       "    <tr>\n",
       "      <th>text1</th>\n",
       "      <td>ham</td>\n",
       "      <td>0.0</td>\n",
       "      <td>0</td>\n",
       "      <td>0.0</td>\n",
       "      <td>0.0</td>\n",
       "      <td>0.0</td>\n",
       "      <td>0</td>\n",
       "      <td>0.0</td>\n",
       "      <td>0.0</td>\n",
       "      <td>0.0</td>\n",
       "      <td>...</td>\n",
       "      <td>0</td>\n",
       "      <td>0</td>\n",
       "      <td>0</td>\n",
       "      <td>0</td>\n",
       "      <td>0</td>\n",
       "      <td>0</td>\n",
       "      <td>0</td>\n",
       "      <td>0</td>\n",
       "      <td>0</td>\n",
       "      <td>0</td>\n",
       "    </tr>\n",
       "    <tr>\n",
       "      <th>text2</th>\n",
       "      <td>spam</td>\n",
       "      <td>0.0</td>\n",
       "      <td>0</td>\n",
       "      <td>0.0</td>\n",
       "      <td>0.0</td>\n",
       "      <td>0.0</td>\n",
       "      <td>0</td>\n",
       "      <td>0.0</td>\n",
       "      <td>0.0</td>\n",
       "      <td>0.0</td>\n",
       "      <td>...</td>\n",
       "      <td>0</td>\n",
       "      <td>0</td>\n",
       "      <td>0</td>\n",
       "      <td>0</td>\n",
       "      <td>0</td>\n",
       "      <td>0</td>\n",
       "      <td>0</td>\n",
       "      <td>0</td>\n",
       "      <td>0</td>\n",
       "      <td>0</td>\n",
       "    </tr>\n",
       "    <tr>\n",
       "      <th>text3</th>\n",
       "      <td>ham</td>\n",
       "      <td>0.0</td>\n",
       "      <td>0</td>\n",
       "      <td>0.0</td>\n",
       "      <td>0.0</td>\n",
       "      <td>0.0</td>\n",
       "      <td>0</td>\n",
       "      <td>0.0</td>\n",
       "      <td>0.0</td>\n",
       "      <td>0.0</td>\n",
       "      <td>...</td>\n",
       "      <td>0</td>\n",
       "      <td>0</td>\n",
       "      <td>0</td>\n",
       "      <td>0</td>\n",
       "      <td>0</td>\n",
       "      <td>0</td>\n",
       "      <td>0</td>\n",
       "      <td>0</td>\n",
       "      <td>0</td>\n",
       "      <td>0</td>\n",
       "    </tr>\n",
       "    <tr>\n",
       "      <th>text4</th>\n",
       "      <td>ham</td>\n",
       "      <td>0.0</td>\n",
       "      <td>0</td>\n",
       "      <td>0.0</td>\n",
       "      <td>0.0</td>\n",
       "      <td>0.0</td>\n",
       "      <td>0</td>\n",
       "      <td>0.0</td>\n",
       "      <td>0.0</td>\n",
       "      <td>0.0</td>\n",
       "      <td>...</td>\n",
       "      <td>0</td>\n",
       "      <td>0</td>\n",
       "      <td>0</td>\n",
       "      <td>0</td>\n",
       "      <td>0</td>\n",
       "      <td>0</td>\n",
       "      <td>0</td>\n",
       "      <td>0</td>\n",
       "      <td>0</td>\n",
       "      <td>0</td>\n",
       "    </tr>\n",
       "    <tr>\n",
       "      <th>text5</th>\n",
       "      <td>spam</td>\n",
       "      <td>0.0</td>\n",
       "      <td>0</td>\n",
       "      <td>0.0</td>\n",
       "      <td>0.0</td>\n",
       "      <td>0.0</td>\n",
       "      <td>0</td>\n",
       "      <td>0.0</td>\n",
       "      <td>0.0</td>\n",
       "      <td>0.0</td>\n",
       "      <td>...</td>\n",
       "      <td>0</td>\n",
       "      <td>0</td>\n",
       "      <td>0</td>\n",
       "      <td>0</td>\n",
       "      <td>0</td>\n",
       "      <td>0</td>\n",
       "      <td>0</td>\n",
       "      <td>0</td>\n",
       "      <td>0</td>\n",
       "      <td>0</td>\n",
       "    </tr>\n",
       "  </tbody>\n",
       "</table>\n",
       "<p>5 rows × 29155 columns</p>\n",
       "</div>"
      ],
      "text/plain": [
       "      Label   go  jurong  point  crazi  avail  bugi    n  great  world  \\\n",
       "text1   ham  0.0       0    0.0    0.0    0.0     0  0.0    0.0    0.0   \n",
       "text2  spam  0.0       0    0.0    0.0    0.0     0  0.0    0.0    0.0   \n",
       "text3   ham  0.0       0    0.0    0.0    0.0     0  0.0    0.0    0.0   \n",
       "text4   ham  0.0       0    0.0    0.0    0.0     0  0.0    0.0    0.0   \n",
       "text5  spam  0.0       0    0.0    0.0    0.0     0  0.0    0.0    0.0   \n",
       "\n",
       "        ...     guy_bitch  bitch_act  act_like  like_interest  interest_buy  \\\n",
       "text1   ...             0          0         0              0             0   \n",
       "text2   ...             0          0         0              0             0   \n",
       "text3   ...             0          0         0              0             0   \n",
       "text4   ...             0          0         0              0             0   \n",
       "text5   ...             0          0         0              0             0   \n",
       "\n",
       "       buy_someth  els_next  week_gave  gave_us  us_free  \n",
       "text1           0         0          0        0        0  \n",
       "text2           0         0          0        0        0  \n",
       "text3           0         0          0        0        0  \n",
       "text4           0         0          0        0        0  \n",
       "text5           0         0          0        0        0  \n",
       "\n",
       "[5 rows x 29155 columns]"
      ]
     },
     "execution_count": 15,
     "metadata": {},
     "output_type": "execute_result"
    }
   ],
   "source": [
    "spam_test.head()"
   ]
  },
  {
   "cell_type": "code",
   "execution_count": 16,
   "metadata": {},
   "outputs": [
    {
     "name": "stdout",
     "output_type": "stream",
     "text": [
      "0.8659485338120886\n"
     ]
    },
    {
     "name": "stderr",
     "output_type": "stream",
     "text": [
      "C:\\ProgramData\\Anaconda3\\lib\\site-packages\\sklearn\\linear_model\\logistic.py:433: FutureWarning: Default solver will be changed to 'lbfgs' in 0.22. Specify a solver to silence this warning.\n",
      "  FutureWarning)\n"
     ]
    },
    {
     "name": "stdout",
     "output_type": "stream",
     "text": [
      "0.8886894075403949\n"
     ]
    }
   ],
   "source": [
    "label = 'Label'\n",
    "print(test_rf_on(spam_train, spam_test, label))\n",
    "\n",
    "print(test_lr_on(spam_train, spam_test, label))"
   ]
  }
 ],
 "metadata": {
  "kernelspec": {
   "display_name": "Python 3",
   "language": "python",
   "name": "python3"
  },
  "language_info": {
   "codemirror_mode": {
    "name": "ipython",
    "version": 3
   },
   "file_extension": ".py",
   "mimetype": "text/x-python",
   "name": "python",
   "nbconvert_exporter": "python",
   "pygments_lexer": "ipython3",
   "version": "3.6.8"
  }
 },
 "nbformat": 4,
 "nbformat_minor": 2
}

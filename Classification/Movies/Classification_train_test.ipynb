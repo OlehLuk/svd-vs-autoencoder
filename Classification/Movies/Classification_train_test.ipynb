{
 "cells": [
  {
   "cell_type": "code",
   "execution_count": 1,
   "metadata": {},
   "outputs": [],
   "source": [
    "import pandas as pd\n",
    "from sklearn.model_selection import (\n",
    "    train_test_split, StratifiedKFold, cross_val_score, GridSearchCV\n",
    ")\n",
    "# ML models\n",
    "from sklearn.linear_model import LogisticRegression\n",
    "from sklearn.ensemble import RandomForestClassifier\n",
    "\n",
    "# metrics\n",
    "from sklearn.metrics import classification_report, f1_score\n",
    "\n",
    "from os import cpu_count"
   ]
  },
  {
   "cell_type": "code",
   "execution_count": 2,
   "metadata": {},
   "outputs": [],
   "source": [
    "def split_feature_label(df, label_col):\n",
    "    return df.drop(columns=label_col), df[label_col]"
   ]
  },
  {
   "cell_type": "code",
   "execution_count": 3,
   "metadata": {},
   "outputs": [],
   "source": [
    "def test_lr_on(df_train, df_test, feature_col):\n",
    "    X_train, y_train = split_feature_label(df_train, feature_col)\n",
    "    X_test, y_test = split_feature_label(df_test, feature_col)\n",
    "    lr = LogisticRegression(random_state=42, C=0.69, penalty='l1')\n",
    "    lr.fit(X_train, y_train)\n",
    "    return lr.score(X_test, y_test)"
   ]
  },
  {
   "cell_type": "code",
   "execution_count": 4,
   "metadata": {},
   "outputs": [],
   "source": [
    "def test_rf_on(df_train, df_test, feature_col):\n",
    "    X_train, y_train = split_feature_label(df_train, feature_col)\n",
    "    X_test, y_test = split_feature_label(df_test, feature_col)\n",
    "    rf = RandomForestClassifier(n_estimators=100, max_depth=10, random_state=42)\n",
    "    rf.fit(X_train, y_train)\n",
    "    return rf.score(X_test, y_test)"
   ]
  },
  {
   "cell_type": "code",
   "execution_count": 14,
   "metadata": {},
   "outputs": [],
   "source": [
    "df_50_train = pd.read_csv(\"train_compressed_to_50_features.csv\", index_col='id_of_the_film')\n",
    "df_50_test = pd.read_csv(\"test_compressed_to_50_features.csv\", index_col='id_of_the_film')\n",
    "df_100_train = pd.read_csv(\"train_compressed_to_100_features.csv\", index_col='id_of_the_film')\n",
    "df_100_test = pd.read_csv(\"test_compressed_to_100_features.csv\", index_col='id_of_the_film')\n",
    "df_500_train = pd.read_csv(\"train_compressed_to_500_features.csv\", index_col='id_of_the_film')\n",
    "df_500_test = pd.read_csv(\"test_compressed_to_500_features.csv\", index_col='id_of_the_film')"
   ]
  },
  {
   "cell_type": "code",
   "execution_count": 18,
   "metadata": {},
   "outputs": [
    {
     "name": "stderr",
     "output_type": "stream",
     "text": [
      "C:\\ProgramData\\Anaconda3\\lib\\site-packages\\sklearn\\linear_model\\logistic.py:433: FutureWarning: Default solver will be changed to 'lbfgs' in 0.22. Specify a solver to silence this warning.\n",
      "  FutureWarning)\n",
      "C:\\ProgramData\\Anaconda3\\lib\\site-packages\\sklearn\\linear_model\\logistic.py:460: FutureWarning: Default multi_class will be changed to 'auto' in 0.22. Specify the multi_class option to silence this warning.\n",
      "  \"this warning.\", FutureWarning)\n",
      "C:\\ProgramData\\Anaconda3\\lib\\site-packages\\sklearn\\linear_model\\logistic.py:433: FutureWarning: Default solver will be changed to 'lbfgs' in 0.22. Specify a solver to silence this warning.\n",
      "  FutureWarning)\n",
      "C:\\ProgramData\\Anaconda3\\lib\\site-packages\\sklearn\\linear_model\\logistic.py:460: FutureWarning: Default multi_class will be changed to 'auto' in 0.22. Specify the multi_class option to silence this warning.\n",
      "  \"this warning.\", FutureWarning)\n"
     ]
    },
    {
     "name": "stdout",
     "output_type": "stream",
     "text": [
      "0.08214285714285714\n",
      "0.08452380952380953\n"
     ]
    },
    {
     "name": "stderr",
     "output_type": "stream",
     "text": [
      "C:\\ProgramData\\Anaconda3\\lib\\site-packages\\sklearn\\linear_model\\logistic.py:433: FutureWarning: Default solver will be changed to 'lbfgs' in 0.22. Specify a solver to silence this warning.\n",
      "  FutureWarning)\n",
      "C:\\ProgramData\\Anaconda3\\lib\\site-packages\\sklearn\\linear_model\\logistic.py:460: FutureWarning: Default multi_class will be changed to 'auto' in 0.22. Specify the multi_class option to silence this warning.\n",
      "  \"this warning.\", FutureWarning)\n"
     ]
    },
    {
     "name": "stdout",
     "output_type": "stream",
     "text": [
      "0.10833333333333334\n"
     ]
    }
   ],
   "source": [
    "print(test_lr_on(df_50_train, df_50_test, 'genre_of_the_film'))\n",
    "print(test_lr_on(df_100_train, df_100_test, 'genre_of_the_film'))\n",
    "print(test_lr_on(df_500_train, df_500_test, 'genre_of_the_film'))"
   ]
  },
  {
   "cell_type": "code",
   "execution_count": 19,
   "metadata": {},
   "outputs": [
    {
     "name": "stdout",
     "output_type": "stream",
     "text": [
      "0.09404761904761905\n",
      "0.10833333333333334\n",
      "0.0880952380952381\n"
     ]
    }
   ],
   "source": [
    "print(test_rf_on(df_50_train, df_50_test, 'genre_of_the_film'))\n",
    "print(test_rf_on(df_100_train, df_100_test, 'genre_of_the_film'))\n",
    "print(test_rf_on(df_500_train, df_500_test, 'genre_of_the_film'))"
   ]
  },
  {
   "cell_type": "code",
   "execution_count": 9,
   "metadata": {},
   "outputs": [],
   "source": [
    "df_svd_50_train = pd.read_csv(\"svd/movie_train_bag_of_words_with_svd_50.csv\", index_col='Unnamed: 0')\n",
    "df_svd_50_test = pd.read_csv(\"svd/movie_test_bag_of_words_with_svd_50.csv\", index_col='Unnamed: 0')\n",
    "df_svd_100_train = pd.read_csv(\"svd/movie_train_bag_of_words_with_svd_100.csv\", index_col='Unnamed: 0')\n",
    "df_svd_100_test = pd.read_csv(\"svd/movie_test_bag_of_words_with_svd_100.csv\", index_col='Unnamed: 0')\n",
    "df_svd_500_train = pd.read_csv(\"svd/movie_train_bag_of_words_with_svd_500.csv\", index_col='Unnamed: 0')\n",
    "df_svd_500_test = pd.read_csv(\"svd/movie_test_bag_of_words_with_svd_500.csv\", index_col='Unnamed: 0')"
   ]
  },
  {
   "cell_type": "code",
   "execution_count": 10,
   "metadata": {},
   "outputs": [],
   "source": [
    "label = 'Label'"
   ]
  },
  {
   "cell_type": "code",
   "execution_count": 11,
   "metadata": {},
   "outputs": [
    {
     "name": "stderr",
     "output_type": "stream",
     "text": [
      "C:\\ProgramData\\Anaconda3\\lib\\site-packages\\sklearn\\linear_model\\logistic.py:433: FutureWarning: Default solver will be changed to 'lbfgs' in 0.22. Specify a solver to silence this warning.\n",
      "  FutureWarning)\n",
      "C:\\ProgramData\\Anaconda3\\lib\\site-packages\\sklearn\\linear_model\\logistic.py:460: FutureWarning: Default multi_class will be changed to 'auto' in 0.22. Specify the multi_class option to silence this warning.\n",
      "  \"this warning.\", FutureWarning)\n",
      "C:\\ProgramData\\Anaconda3\\lib\\site-packages\\sklearn\\linear_model\\logistic.py:433: FutureWarning: Default solver will be changed to 'lbfgs' in 0.22. Specify a solver to silence this warning.\n",
      "  FutureWarning)\n",
      "C:\\ProgramData\\Anaconda3\\lib\\site-packages\\sklearn\\linear_model\\logistic.py:460: FutureWarning: Default multi_class will be changed to 'auto' in 0.22. Specify the multi_class option to silence this warning.\n",
      "  \"this warning.\", FutureWarning)\n"
     ]
    },
    {
     "name": "stdout",
     "output_type": "stream",
     "text": [
      "0.2357142857142857\n",
      "0.2369047619047619\n"
     ]
    },
    {
     "name": "stderr",
     "output_type": "stream",
     "text": [
      "C:\\ProgramData\\Anaconda3\\lib\\site-packages\\sklearn\\linear_model\\logistic.py:433: FutureWarning: Default solver will be changed to 'lbfgs' in 0.22. Specify a solver to silence this warning.\n",
      "  FutureWarning)\n",
      "C:\\ProgramData\\Anaconda3\\lib\\site-packages\\sklearn\\linear_model\\logistic.py:460: FutureWarning: Default multi_class will be changed to 'auto' in 0.22. Specify the multi_class option to silence this warning.\n",
      "  \"this warning.\", FutureWarning)\n"
     ]
    },
    {
     "name": "stdout",
     "output_type": "stream",
     "text": [
      "0.2369047619047619\n"
     ]
    }
   ],
   "source": [
    "print(test_lr_on(df_svd_50_train, df_svd_50_test, label))\n",
    "print(test_lr_on(df_svd_100_train, df_svd_100_test, label))\n",
    "print(test_lr_on(df_svd_500_train, df_svd_500_test, label))"
   ]
  },
  {
   "cell_type": "code",
   "execution_count": 12,
   "metadata": {},
   "outputs": [
    {
     "name": "stdout",
     "output_type": "stream",
     "text": [
      "0.3547619047619048\n",
      "0.3607142857142857\n",
      "0.35833333333333334\n"
     ]
    }
   ],
   "source": [
    "print(test_rf_on(df_svd_50_train, df_svd_50_test, label))\n",
    "print(test_rf_on(df_svd_100_train, df_svd_100_test, label))\n",
    "print(test_rf_on(df_svd_500_train, df_svd_500_test, label))"
   ]
  },
  {
   "cell_type": "code",
   "execution_count": 13,
   "metadata": {},
   "outputs": [],
   "source": [
    "df_train = pd.read_csv(\"movies_for_svd_train.csv\", index_col='id_of_the_film')\n",
    "df_test = pd.read_csv(\"movies_for_svd_test.csv\", index_col='id_of_the_film')"
   ]
  },
  {
   "cell_type": "code",
   "execution_count": 17,
   "metadata": {},
   "outputs": [
    {
     "name": "stdout",
     "output_type": "stream",
     "text": [
      "RF:0.4035714285714286\n"
     ]
    },
    {
     "name": "stderr",
     "output_type": "stream",
     "text": [
      "C:\\ProgramData\\Anaconda3\\lib\\site-packages\\sklearn\\linear_model\\logistic.py:433: FutureWarning: Default solver will be changed to 'lbfgs' in 0.22. Specify a solver to silence this warning.\n",
      "  FutureWarning)\n",
      "C:\\ProgramData\\Anaconda3\\lib\\site-packages\\sklearn\\linear_model\\logistic.py:460: FutureWarning: Default multi_class will be changed to 'auto' in 0.22. Specify the multi_class option to silence this warning.\n",
      "  \"this warning.\", FutureWarning)\n"
     ]
    },
    {
     "name": "stdout",
     "output_type": "stream",
     "text": [
      "LR:0.40714285714285714\n",
      "Wall time: 9.5 s\n"
     ]
    }
   ],
   "source": [
    "%%time\n",
    "print(\"RF:\" + str(test_rf_on(df_train, df_test, 'genre_of_the_film')))\n",
    "print(\"LR:\" + str(test_lr_on(df_train, df_test, 'genre_of_the_film')))"
   ]
  },
  {
   "cell_type": "code",
   "execution_count": 16,
   "metadata": {},
   "outputs": [
    {
     "data": {
      "text/html": [
       "<div>\n",
       "<style scoped>\n",
       "    .dataframe tbody tr th:only-of-type {\n",
       "        vertical-align: middle;\n",
       "    }\n",
       "\n",
       "    .dataframe tbody tr th {\n",
       "        vertical-align: top;\n",
       "    }\n",
       "\n",
       "    .dataframe thead th {\n",
       "        text-align: right;\n",
       "    }\n",
       "</style>\n",
       "<table border=\"1\" class=\"dataframe\">\n",
       "  <thead>\n",
       "    <tr style=\"text-align: right;\">\n",
       "      <th></th>\n",
       "      <th>00</th>\n",
       "      <th>000</th>\n",
       "      <th>000th</th>\n",
       "      <th>003</th>\n",
       "      <th>01</th>\n",
       "      <th>02</th>\n",
       "      <th>03</th>\n",
       "      <th>033</th>\n",
       "      <th>04</th>\n",
       "      <th>047</th>\n",
       "      <th>...</th>\n",
       "      <th>綿谷</th>\n",
       "      <th>賢治</th>\n",
       "      <th>青木ヶ原</th>\n",
       "      <th>나그네</th>\n",
       "      <th>달수</th>\n",
       "      <th>애꾸눈</th>\n",
       "      <th>잎싹</th>\n",
       "      <th>초록</th>\n",
       "      <th>초록머리</th>\n",
       "      <th>genre_of_the_film</th>\n",
       "    </tr>\n",
       "    <tr>\n",
       "      <th>id_of_the_film</th>\n",
       "      <th></th>\n",
       "      <th></th>\n",
       "      <th></th>\n",
       "      <th></th>\n",
       "      <th></th>\n",
       "      <th></th>\n",
       "      <th></th>\n",
       "      <th></th>\n",
       "      <th></th>\n",
       "      <th></th>\n",
       "      <th></th>\n",
       "      <th></th>\n",
       "      <th></th>\n",
       "      <th></th>\n",
       "      <th></th>\n",
       "      <th></th>\n",
       "      <th></th>\n",
       "      <th></th>\n",
       "      <th></th>\n",
       "      <th></th>\n",
       "      <th></th>\n",
       "    </tr>\n",
       "  </thead>\n",
       "  <tbody>\n",
       "    <tr>\n",
       "      <th>15387</th>\n",
       "      <td>0</td>\n",
       "      <td>0</td>\n",
       "      <td>0</td>\n",
       "      <td>0</td>\n",
       "      <td>0</td>\n",
       "      <td>0</td>\n",
       "      <td>0</td>\n",
       "      <td>0</td>\n",
       "      <td>0</td>\n",
       "      <td>0</td>\n",
       "      <td>...</td>\n",
       "      <td>0</td>\n",
       "      <td>0</td>\n",
       "      <td>0</td>\n",
       "      <td>0</td>\n",
       "      <td>0</td>\n",
       "      <td>0</td>\n",
       "      <td>0</td>\n",
       "      <td>0</td>\n",
       "      <td>0</td>\n",
       "      <td>western</td>\n",
       "    </tr>\n",
       "    <tr>\n",
       "      <th>16801</th>\n",
       "      <td>0</td>\n",
       "      <td>0</td>\n",
       "      <td>0</td>\n",
       "      <td>0</td>\n",
       "      <td>0</td>\n",
       "      <td>0</td>\n",
       "      <td>0</td>\n",
       "      <td>0</td>\n",
       "      <td>0</td>\n",
       "      <td>0</td>\n",
       "      <td>...</td>\n",
       "      <td>0</td>\n",
       "      <td>0</td>\n",
       "      <td>0</td>\n",
       "      <td>0</td>\n",
       "      <td>0</td>\n",
       "      <td>0</td>\n",
       "      <td>0</td>\n",
       "      <td>0</td>\n",
       "      <td>0</td>\n",
       "      <td>fantasy</td>\n",
       "    </tr>\n",
       "    <tr>\n",
       "      <th>28796</th>\n",
       "      <td>0</td>\n",
       "      <td>0</td>\n",
       "      <td>0</td>\n",
       "      <td>0</td>\n",
       "      <td>0</td>\n",
       "      <td>0</td>\n",
       "      <td>0</td>\n",
       "      <td>0</td>\n",
       "      <td>0</td>\n",
       "      <td>0</td>\n",
       "      <td>...</td>\n",
       "      <td>0</td>\n",
       "      <td>0</td>\n",
       "      <td>0</td>\n",
       "      <td>0</td>\n",
       "      <td>0</td>\n",
       "      <td>0</td>\n",
       "      <td>0</td>\n",
       "      <td>0</td>\n",
       "      <td>0</td>\n",
       "      <td>drama</td>\n",
       "    </tr>\n",
       "    <tr>\n",
       "      <th>570</th>\n",
       "      <td>0</td>\n",
       "      <td>0</td>\n",
       "      <td>0</td>\n",
       "      <td>0</td>\n",
       "      <td>0</td>\n",
       "      <td>0</td>\n",
       "      <td>0</td>\n",
       "      <td>0</td>\n",
       "      <td>0</td>\n",
       "      <td>0</td>\n",
       "      <td>...</td>\n",
       "      <td>0</td>\n",
       "      <td>0</td>\n",
       "      <td>0</td>\n",
       "      <td>0</td>\n",
       "      <td>0</td>\n",
       "      <td>0</td>\n",
       "      <td>0</td>\n",
       "      <td>0</td>\n",
       "      <td>0</td>\n",
       "      <td>fantasy</td>\n",
       "    </tr>\n",
       "    <tr>\n",
       "      <th>14382</th>\n",
       "      <td>0</td>\n",
       "      <td>0</td>\n",
       "      <td>0</td>\n",
       "      <td>0</td>\n",
       "      <td>0</td>\n",
       "      <td>0</td>\n",
       "      <td>0</td>\n",
       "      <td>0</td>\n",
       "      <td>0</td>\n",
       "      <td>0</td>\n",
       "      <td>...</td>\n",
       "      <td>0</td>\n",
       "      <td>0</td>\n",
       "      <td>0</td>\n",
       "      <td>0</td>\n",
       "      <td>0</td>\n",
       "      <td>0</td>\n",
       "      <td>0</td>\n",
       "      <td>0</td>\n",
       "      <td>0</td>\n",
       "      <td>horror</td>\n",
       "    </tr>\n",
       "  </tbody>\n",
       "</table>\n",
       "<p>5 rows × 50006 columns</p>\n",
       "</div>"
      ],
      "text/plain": [
       "                00  000  000th  003  01  02  03  033  04  047  \\\n",
       "id_of_the_film                                                  \n",
       "15387            0    0      0    0   0   0   0    0   0    0   \n",
       "16801            0    0      0    0   0   0   0    0   0    0   \n",
       "28796            0    0      0    0   0   0   0    0   0    0   \n",
       "570              0    0      0    0   0   0   0    0   0    0   \n",
       "14382            0    0      0    0   0   0   0    0   0    0   \n",
       "\n",
       "                      ...          綿谷  賢治  青木ヶ原  나그네  달수  애꾸눈  잎싹  초록  초록머리  \\\n",
       "id_of_the_film        ...                                                     \n",
       "15387                 ...           0   0     0    0   0    0   0   0     0   \n",
       "16801                 ...           0   0     0    0   0    0   0   0     0   \n",
       "28796                 ...           0   0     0    0   0    0   0   0     0   \n",
       "570                   ...           0   0     0    0   0    0   0   0     0   \n",
       "14382                 ...           0   0     0    0   0    0   0   0     0   \n",
       "\n",
       "                genre_of_the_film  \n",
       "id_of_the_film                     \n",
       "15387                     western  \n",
       "16801                     fantasy  \n",
       "28796                       drama  \n",
       "570                       fantasy  \n",
       "14382                      horror  \n",
       "\n",
       "[5 rows x 50006 columns]"
      ]
     },
     "execution_count": 16,
     "metadata": {},
     "output_type": "execute_result"
    }
   ],
   "source": [
    "df_train.head()"
   ]
  }
 ],
 "metadata": {
  "kernelspec": {
   "display_name": "Python 3",
   "language": "python",
   "name": "python3"
  },
  "language_info": {
   "codemirror_mode": {
    "name": "ipython",
    "version": 3
   },
   "file_extension": ".py",
   "mimetype": "text/x-python",
   "name": "python",
   "nbconvert_exporter": "python",
   "pygments_lexer": "ipython3",
   "version": "3.6.8"
  }
 },
 "nbformat": 4,
 "nbformat_minor": 2
}
